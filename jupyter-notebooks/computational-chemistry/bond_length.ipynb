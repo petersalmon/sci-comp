{
 "cells": [
  {
   "cell_type": "markdown",
   "id": "f302a962-cb66-4a3d-9159-afe3d40c6c47",
   "metadata": {
    "tags": []
   },
   "source": [
    "# Calculating Bond Length\n",
    "\n",
    "By Peter Salamon"
   ]
  },
  {
   "cell_type": "code",
   "execution_count": 1,
   "id": "7b2b40bd-b04e-44cf-bb18-dd581548ea53",
   "metadata": {},
   "outputs": [],
   "source": [
    "# Importing the necessary Python packages\n",
    "\n",
    "import numpy as np\n",
    "import math"
   ]
  },
  {
   "cell_type": "code",
   "execution_count": 2,
   "id": "403a2176-140d-4f72-8e5d-0ce8349194fa",
   "metadata": {},
   "outputs": [],
   "source": [
    "# Grabbing the XYZ file for H2O\n",
    "\n",
    "filename = '../files/H2O.xyz'"
   ]
  },
  {
   "cell_type": "code",
   "execution_count": 3,
   "id": "2666542c-cb87-43a5-a0a8-79bb118fb6a1",
   "metadata": {},
   "outputs": [
    {
     "name": "stdout",
     "output_type": "stream",
     "text": [
      ">>>  3\n",
      "\n",
      ">>>  Water\n",
      "\n",
      ">>>  H    0.7493682    0.0000000    0.4424329\n",
      "\n",
      ">>>  O    0.0000000    0.0000000   -0.1653507\n",
      "\n",
      ">>>  H   -0.7493682    0.0000000    0.4424329\n"
     ]
    }
   ],
   "source": [
    "# Viewing the contents of H2O.xyz by printing each line\n",
    "\n",
    "filename = '../files/H2O.xyz'\n",
    "xyz = open(filename, \"r\")\n",
    "for line in xyz:\n",
    "    print('>>> ', line)\n",
    "xyz.close()"
   ]
  },
  {
   "cell_type": "code",
   "execution_count": 4,
   "id": "95fe17dc-59d0-4262-b908-e1d1a294424d",
   "metadata": {},
   "outputs": [],
   "source": [
    "# Building a dictionary of each atom in H2O.xyz and their coordinates\n",
    "\n",
    "h2o_dict = {}\n",
    "\n",
    "with open(filename) as xyz:\n",
    "    lines = xyz.readlines()\n",
    "    total_atoms = lines[0].strip()\n",
    "    molecule = lines[1].strip()\n",
    "    h2o_dict['total_atoms'] = total_atoms\n",
    "    h2o_dict['molecule'] = molecule\n",
    "    h2o_dict['atoms'] = []\n",
    "    h2o_dict['coordinates'] = []\n",
    "    lines = lines[2:]\n",
    "    for line in lines:\n",
    "        atom, x, y, z = line.split()\n",
    "        coors = np.array([x, y, z], dtype = float)\n",
    "        h2o_dict['atoms'].append(atom)\n",
    "        h2o_dict['coordinates'].append(coors)"
   ]
  },
  {
   "cell_type": "code",
   "execution_count": 5,
   "id": "41460319-1f78-4647-a41d-f2ca50b618d3",
   "metadata": {},
   "outputs": [
    {
     "name": "stdout",
     "output_type": "stream",
     "text": [
      "total_atoms : 3\n",
      "molecule : Water\n",
      "atoms : ['H', 'O', 'H']\n",
      "coordinates : [array([0.7493682, 0.       , 0.4424329]), array([ 0.       ,  0.       , -0.1653507]), array([-0.7493682,  0.       ,  0.4424329])]\n"
     ]
    }
   ],
   "source": [
    "# Taking a look at the resulting dictionary\n",
    "\n",
    "for key in h2o_dict.keys():\n",
    "    print(key, ':', h2o_dict[key])"
   ]
  },
  {
   "cell_type": "code",
   "execution_count": 6,
   "id": "7dc23e3e-c245-4711-9880-e257b90c672b",
   "metadata": {},
   "outputs": [],
   "source": [
    "# Calculating the bond length between the first Hydrogen atom and the Oxygen atom\n",
    "\n",
    "h_coors = h2o_dict['coordinates'][0]\n",
    "o_coors = h2o_dict['coordinates'][1]\n",
    "bond_length = math.sqrt(np.sum(np.square(h_coors - o_coors)))"
   ]
  },
  {
   "cell_type": "code",
   "execution_count": 7,
   "id": "f60a24d7-e1c3-45a8-9ff6-7296464b42d5",
   "metadata": {},
   "outputs": [
    {
     "name": "stdout",
     "output_type": "stream",
     "text": [
      "The bond length between the Hydrogen atoms and the Oxygen atom is 0.96 angstroms.\n"
     ]
    }
   ],
   "source": [
    "print(f'The bond length between the Hydrogen atoms and the Oxygen atom is {round(bond_length,2)} angstroms.')"
   ]
  }
 ],
 "metadata": {
  "kernelspec": {
   "display_name": "Python 3 (ipykernel)",
   "language": "python",
   "name": "python3"
  },
  "language_info": {
   "codemirror_mode": {
    "name": "ipython",
    "version": 3
   },
   "file_extension": ".py",
   "mimetype": "text/x-python",
   "name": "python",
   "nbconvert_exporter": "python",
   "pygments_lexer": "ipython3",
   "version": "3.9.7"
  }
 },
 "nbformat": 4,
 "nbformat_minor": 5
}
